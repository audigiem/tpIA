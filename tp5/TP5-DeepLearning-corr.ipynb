{
 "cells": [
  {
   "cell_type": "code",
   "execution_count": 1,
   "metadata": {},
   "outputs": [],
   "source": [
    "\n",
    "import random\n",
    "import os\n",
    "import numpy as np\n",
    "import matplotlib.pyplot as plt\n",
    "import pandas as pd\n",
    "\n",
    "from sklearn.model_selection import train_test_split\n",
    "from sklearn.pipeline import Pipeline\n",
    "from sklearn.linear_model import LinearRegression, Lasso\n",
    "from sklearn.preprocessing import StandardScaler\n",
    "from sklearn.metrics import mean_absolute_error"
   ]
  },
  {
   "cell_type": "code",
   "execution_count": 2,
   "metadata": {},
   "outputs": [],
   "source": [
    "\n",
    "import torch\n",
    "import torch.nn as nn\n",
    "import torchvision\n",
    "import torch.nn.functional as F\n",
    "from torch.utils.data import random_split\n",
    "from torch.optim import SGD, Adam\n",
    "from torch.utils.data import DataLoader\n",
    "from torchinfo import summary"
   ]
  },
  {
   "cell_type": "code",
   "execution_count": 3,
   "metadata": {},
   "outputs": [],
   "source": [
    "def seed_everything(seed=2024):\n",
    "    import random\n",
    "    import os\n",
    "    import numpy as np\n",
    "    random.seed(seed)\n",
    "    os.environ['PYTHONHASHSEED'] = str(seed)\n",
    "    np.random.seed(seed)\n",
    "    torch.manual_seed(seed)\n",
    "    torch.cuda.manual_seed(seed)\n",
    "    torch.cuda.manual_seed_all(seed)\n",
    "    torch.backends.cudnn.deterministic = True\n",
    "    \n",
    "seed_everything()"
   ]
  },
  {
   "cell_type": "code",
   "execution_count": 4,
   "metadata": {},
   "outputs": [],
   "source": [
    "def load_data(path_to_data: str):\n",
    "    data = pd.read_csv(path_to_data)\n",
    "    return data"
   ]
  },
  {
   "cell_type": "markdown",
   "metadata": {},
   "source": [
    "## 1. Regression Model"
   ]
  },
  {
   "cell_type": "markdown",
   "metadata": {},
   "source": [
    "The following code block constructs two regression models to predict the salaries of baseball players using the Hitters Dataset (from the ISLR Book). Find what is missing and complete it."
   ]
  },
  {
   "cell_type": "code",
   "execution_count": 6,
   "metadata": {},
   "outputs": [
    {
     "name": "stdout",
     "output_type": "stream",
     "text": [
      "Linear MAE: 198.3418263757652, Lasso MAE: 199.18428092561692\n"
     ]
    }
   ],
   "source": [
    "hitters = load_data(path_to_data='data/hitters.csv').dropna()\n",
    "hitters = pd.get_dummies(hitters, columns=['League', 'Division', 'NewLeague'], drop_first=True)\n",
    "hitters = hitters.drop('Names', axis=1)\n",
    "\n",
    "X = hitters.drop('Salary', axis=1).to_numpy()\n",
    "y = hitters['Salary'].to_numpy()\n",
    "\n",
    "X_train, X_test, y_train, y_test = train_test_split(X, y, test_size=0.3, random_state=2024) #This disappears\n",
    "\n",
    "linear_pipeline = Pipeline([\n",
    "    ('scaler', StandardScaler()),\n",
    "    ('clf', LinearRegression())\n",
    "])\n",
    "\n",
    "lasso_pipeline = Pipeline([\n",
    "    ('scaler', StandardScaler()),\n",
    "    ('clf', Lasso())\n",
    "])\n",
    "\n",
    "\n",
    "linear_pipeline.fit(X_train, y_train)\n",
    "lasso_pipeline.fit(X_train, y_train)\n",
    "\n",
    "linear_pred = linear_pipeline.predict(X_test)\n",
    "lasso_pred = lasso_pipeline.predict(X_test)\n",
    "\n",
    "linear_mae = mean_absolute_error(y_test, linear_pred)\n",
    "lasso_mae = mean_absolute_error(y_test, lasso_pred)\n",
    "print(f'Linear MAE: {linear_mae}, Lasso MAE: {lasso_mae}')\n"
   ]
  },
  {
   "cell_type": "markdown",
   "metadata": {},
   "source": [
    "## 2. Dataset in Pytorch"
   ]
  },
  {
   "cell_type": "markdown",
   "metadata": {},
   "source": [
    "The cell below is for converting our **training and testing data into PyTorch tensors** and then creating a `TensorDataset` for each of them.\n",
    "\n",
    "- `X_train_tensor = torch.tensor(X_train.astype(np.float32))` and `y_train_tensor = torch.tensor(y_train.astype(np.float32))`: These lines convert the training data (`X_train`) and labels (`y_train`) into PyTorch tensors. The `astype(np.float32)` part is used to ensure that the data is in the `float32` format, which is a requirement for many PyTorch functions.\n",
    "\n",
    "- `hit_traindataset = torch.utils.data.TensorDataset(X_train_tensor, y_train_tensor)`: This line creates a `TensorDataset` from the training data and labels. A `TensorDataset` is a dataset provided by PyTorch that wraps tensors. Each sample will be retrieved by indexing tensors along the first dimension.\n",
    "\n",
    "The next two lines do the same for the **testing data (`X_test`) and labels (`y_test`)**.\n",
    "\n",
    "See how the data are organized : `hit_traindataset[0]`"
   ]
  },
  {
   "cell_type": "code",
   "execution_count": 7,
   "metadata": {},
   "outputs": [],
   "source": [
    "X_train_tensor = torch.tensor(X_train.astype(np.float32))\n",
    "y_train_tensor = torch.tensor(y_train.astype(np.float32))\n",
    "\n",
    "hit_traindataset = torch.utils.data.TensorDataset(X_train_tensor, y_train_tensor)\n",
    "\n",
    "X_test_tensor = torch.tensor(X_test.astype(np.float32))\n",
    "y_test_tensor = torch.tensor(y_test.astype(np.float32))\n",
    "\n",
    "hit_testdataset = torch.utils.data.TensorDataset(X_test_tensor, y_test_tensor)"
   ]
  },
  {
   "cell_type": "markdown",
   "metadata": {},
   "source": [
    "The cell below creates `DataLoader` objects for both the training and testing datasets. These DataLoader objects will be used to iterate over the datasets in batches during the training and testing phases of the model. This allows for more efficient use of memory and can make training faster, especially for large datasets. The DataLoader also handles the shuffling of the data, which helps ensure that the model doesn't learn any unintended patterns from the order of the training data."
   ]
  },
  {
   "cell_type": "code",
   "execution_count": 8,
   "metadata": {},
   "outputs": [],
   "source": [
    "hit_trainloader = torch.utils.data.DataLoader(hit_traindataset, batch_size=32, shuffle=True)\n",
    "hit_testloader = torch.utils.data.DataLoader(hit_testdataset, batch_size=32, shuffle=False)"
   ]
  },
  {
   "cell_type": "markdown",
   "metadata": {},
   "source": [
    "We define new class named `HittersModel` which is a subclass of `nn.Module`. The `nn.Module` class is a fundamental class provided by PyTorch and is used to represent neural network models. \n",
    "\n",
    "In `__init__`, we define:\n",
    "\n",
    "- `self.fc1 = nn.Linear(input_dim, 50)`: A fully connected layer with `input_dim` inputs and 50 outputs.\n",
    "- `self.relu = nn.ReLU()`: The ReLU activation function.\n",
    "- `self.dropout = nn.Dropout(0.4)`: A dropout layer with a rate of 0.4 for regularization.\n",
    "- `self.fc2 = nn.Linear(50,1)`: Another fully connected layer with 50 inputs and 1 output for binary classification.\n",
    "\n",
    "Additionally, the `__init__` method includes a call to `super().__init__()`. This function allows subclasses to access methods from their parent class. For instance, `nn.Module` has its own `__init__` method, which is different from the `__init__` method we've defined for `HittersModel`. By using `super().__init__()`, we're calling the `__init__` method of the parent class, ensuring that our model is correctly interpreted by PyTorch.\n",
    "\n",
    "\n",
    "The `forward` method defines the forward pass of the neural network, which is how the network processes inputs.\n",
    "\n",
    "Here's what each line does:\n",
    "\n",
    "- `x = self.fc1(x)`: This line passes the input `x` through the first fully connected layer (`fc1`).\n",
    "\n",
    "- `x = self.relu(x)`: This line applies the ReLU activation function to the output of the first fully connected layer. The ReLU function is defined as `ReLU(x) = max(0, x)`, which introduces non-linearity into the model.\n",
    "\n",
    "- `x = self.dropout(x)`: This line applies dropout to the output of the ReLU function. Dropout randomly sets a fraction of input units to 0 at each update during training time, which helps prevent overfitting.\n",
    "\n",
    "- `x = self.fc2(x)`: This line passes the output of the dropout layer through the second fully connected layer (`fc2`).\n",
    "\n",
    "- `return x.squeeze()`: This line removes dimensions of size 1 from the output. For example, if the output shape was `(batch_size, 1)`, it becomes `(batch_size,)` after squeezing. This is often necessary because many loss functions expect the target and input to have the same dimensions.\n",
    "\n",
    "In summary, the `forward` method takes an input tensor, passes it through two fully connected layers with a ReLU activation and dropout in between, and returns the output after squeezing unnecessary dimensions.\n"
   ]
  },
  {
   "cell_type": "code",
   "execution_count": 9,
   "metadata": {},
   "outputs": [],
   "source": [
    "class HittersModel(nn.Module):\n",
    "    def __init__(self, input_dim):\n",
    "        super(HittersModel, self).__init__()\n",
    "        self.fc1 = nn.Linear(input_dim, 50)\n",
    "        self.relu = nn.ReLU()\n",
    "        self.dropout = nn.Dropout(0.4)\n",
    "        self.fc2 = nn.Linear(50,1)\n",
    "    \n",
    "    def forward(self, x):\n",
    "        x = self.fc1(x)\n",
    "        x = self.relu(x)\n",
    "        x = self.dropout(x)\n",
    "        x = self.fc2(x)\n",
    "        return x.squeeze()\n"
   ]
  },
  {
   "cell_type": "markdown",
   "metadata": {},
   "source": [
    "## Training Loop\n",
    "\n",
    "The `train_function` represents a standard training cycle for a PyTorch model. It iterates over the dataset multiple times (epochs) and calculates updates."
   ]
  },
  {
   "cell_type": "code",
   "execution_count": 10,
   "metadata": {},
   "outputs": [],
   "source": [
    "def train_function(model, train_loader, test_loader, epochs, optimizer, criterion):\n",
    "    for epoch in range(epochs):\n",
    "        model.train()\n",
    "        epoch_tloss, epoch_vloss, epoch_vmetrics = 0., 0., 0.\n",
    "        for X, y in train_loader: # X is the input and y is the target\n",
    "            optimizer.zero_grad() # zero the parameter gradients\n",
    "            output = model(X) \n",
    "            tloss = criterion(output, y)\n",
    "            tloss.backward() # backpropagation\n",
    "            optimizer.step() # update the weights\n",
    "            epoch_tloss += tloss.item() # add the loss to the epoch loss\n",
    "        model.eval()\n",
    "        with torch.no_grad():\n",
    "            for X, y in test_loader:\n",
    "                output = model(X)\n",
    "                vloss = criterion(output, y)\n",
    "                mae = nn.functional.l1_loss(output, y) # mean absolute error\n",
    "                epoch_vloss += vloss.item() \n",
    "                epoch_vmetrics += mae.item()\n",
    "            print(f'Epoch: {epoch} : Train Loss: {epoch_tloss/len(train_loader):.2f} || Test Loss: {epoch_vloss/len(test_loader):.2f} || Test MAE: {epoch_vmetrics/len(test_loader):.2f}')"
   ]
  },
  {
   "cell_type": "markdown",
   "metadata": {},
   "source": [
    "### Questions\n",
    "\n",
    "1. What is the purpose of `model.train()` and `model.eval()`? What might go wrong if we forgot to call these functions?\n",
    "\n",
    "The methods `model.train()` and `model.eval()` are used to set the model to training and evaluation modes, respectively. During training, we often use regularization techniques to prevent overfitting, but these are not typically used during evaluation. Setting the model to the appropriate mode enables or disables these functionalities as needed. If we forget to set the correct mode, for example, if we leave the model in evaluation mode during training, regularization will not be applied, and vice versa.\n",
    "\n",
    "\n",
    "2. Why do we compute the loss on both the training data and the testing data? What is the difference between these two losses?\n",
    "\n",
    "The loss on the training data is used to optimize the model parameters, whereas the loss on the test data is used for model evaluation.\n",
    "\n",
    "3. Why do we use `with torch.no_grad():` during evaluation? What would happen if we didn't use it?\n",
    "\n",
    "We use torch.no_grad() to disable the computation of gradients for the model's parameters, as we are only interested in computing the model's predictions, not the gradients. If we forget to use torch.no_grad(), PyTorch will still compute the gradients of the parameters. This is unnecessary and can lead to memory issues if the model size is too large."
   ]
  },
  {
   "cell_type": "markdown",
   "metadata": {},
   "source": [
    "#### You can run the cell below to train the model on Hitters dataset"
   ]
  },
  {
   "cell_type": "code",
   "execution_count": 12,
   "metadata": {},
   "outputs": [
    {
     "name": "stdout",
     "output_type": "stream",
     "text": [
      "Epoch: 0 : Train Loss: 391144.94 || Test Loss: 224939.05 || Test MAE: 314.96\n",
      "Epoch: 1 : Train Loss: 286116.53 || Test Loss: 160678.49 || Test MAE: 245.26\n",
      "Epoch: 2 : Train Loss: 228130.98 || Test Loss: 126535.66 || Test MAE: 203.26\n",
      "Epoch: 3 : Train Loss: 230816.93 || Test Loss: 114291.77 || Test MAE: 199.96\n",
      "Epoch: 4 : Train Loss: 239676.77 || Test Loss: 111164.96 || Test MAE: 200.72\n",
      "Epoch: 5 : Train Loss: 245105.29 || Test Loss: 109335.26 || Test MAE: 200.75\n",
      "Epoch: 6 : Train Loss: 210939.00 || Test Loss: 109881.49 || Test MAE: 197.50\n",
      "Epoch: 7 : Train Loss: 201295.06 || Test Loss: 110906.65 || Test MAE: 196.00\n",
      "Epoch: 8 : Train Loss: 202527.03 || Test Loss: 110063.98 || Test MAE: 195.47\n",
      "Epoch: 9 : Train Loss: 191433.71 || Test Loss: 110025.21 || Test MAE: 195.25\n",
      "Epoch: 10 : Train Loss: 184020.50 || Test Loss: 108428.09 || Test MAE: 195.43\n",
      "Epoch: 11 : Train Loss: 206570.91 || Test Loss: 105209.84 || Test MAE: 195.97\n",
      "Epoch: 12 : Train Loss: 200147.48 || Test Loss: 103937.55 || Test MAE: 196.71\n",
      "Epoch: 13 : Train Loss: 211863.12 || Test Loss: 103769.74 || Test MAE: 196.82\n",
      "Epoch: 14 : Train Loss: 190589.77 || Test Loss: 102711.14 || Test MAE: 197.32\n",
      "Epoch: 15 : Train Loss: 248266.86 || Test Loss: 102481.57 || Test MAE: 196.68\n",
      "Epoch: 16 : Train Loss: 153513.24 || Test Loss: 100073.04 || Test MAE: 197.68\n",
      "Epoch: 17 : Train Loss: 192097.20 || Test Loss: 98252.82 || Test MAE: 198.91\n",
      "Epoch: 18 : Train Loss: 173062.06 || Test Loss: 96844.67 || Test MAE: 200.09\n",
      "Epoch: 19 : Train Loss: 145352.00 || Test Loss: 96395.78 || Test MAE: 200.24\n",
      "Epoch: 20 : Train Loss: 146326.76 || Test Loss: 95409.48 || Test MAE: 201.84\n",
      "Epoch: 21 : Train Loss: 162862.66 || Test Loss: 96097.40 || Test MAE: 200.83\n",
      "Epoch: 22 : Train Loss: 188807.12 || Test Loss: 98322.89 || Test MAE: 199.51\n",
      "Epoch: 23 : Train Loss: 157247.17 || Test Loss: 98975.57 || Test MAE: 199.58\n",
      "Epoch: 24 : Train Loss: 171834.08 || Test Loss: 97958.98 || Test MAE: 200.21\n",
      "Epoch: 25 : Train Loss: 168049.08 || Test Loss: 95600.86 || Test MAE: 201.93\n",
      "Epoch: 26 : Train Loss: 169752.62 || Test Loss: 93675.53 || Test MAE: 204.00\n",
      "Epoch: 27 : Train Loss: 188533.47 || Test Loss: 93269.03 || Test MAE: 205.13\n",
      "Epoch: 28 : Train Loss: 163185.89 || Test Loss: 94997.52 || Test MAE: 203.66\n",
      "Epoch: 29 : Train Loss: 147654.99 || Test Loss: 96021.19 || Test MAE: 202.90\n"
     ]
    }
   ],
   "source": [
    "model = HittersModel(input_dim=X_train.shape[1]) \n",
    "optimizer = Adam(model.parameters(), lr=0.001)\n",
    "criterion = nn.MSELoss()\n",
    "train_function(model, hit_trainloader, hit_testloader, 30, optimizer, criterion)"
   ]
  },
  {
   "cell_type": "markdown",
   "metadata": {},
   "source": [
    "# 2. CNN with Pytorch "
   ]
  },
  {
   "cell_type": "code",
   "execution_count": 13,
   "metadata": {},
   "outputs": [],
   "source": [
    "from torchvision.io import read_image\n",
    "from torchvision.datasets import FashionMNIST\n",
    "from torchvision.transforms import (Compose,\n",
    "                                    ToTensor, \n",
    "                                    Normalize,\n",
    "                                    RandomHorizontalFlip, \n",
    "                                    RandomCrop)"
   ]
  },
  {
   "cell_type": "markdown",
   "metadata": {},
   "source": [
    "### Load FashionMNIST data"
   ]
  },
  {
   "cell_type": "code",
   "execution_count": 14,
   "metadata": {},
   "outputs": [
    {
     "data": {
      "text/plain": [
       "Dataset FashionMNIST\n",
       "    Number of datapoints: 60000\n",
       "    Root location: data\n",
       "    Split: Train\n",
       "    StandardTransform\n",
       "Transform: ToTensor()"
      ]
     },
     "execution_count": 14,
     "metadata": {},
     "output_type": "execute_result"
    }
   ],
   "source": [
    "(train_data,test_data )= [FashionMNIST(root=\"data\", train=train, download=True, transform=ToTensor()) for train in [True, False]]\n",
    "train_data"
   ]
  },
  {
   "cell_type": "code",
   "execution_count": 15,
   "metadata": {},
   "outputs": [
    {
     "name": "stdout",
     "output_type": "stream",
     "text": [
      "Number of training examples: 60000\n",
      "Number of test examples: 10000\n",
      "Classes: ['T-shirt/top', 'Trouser', 'Pullover', 'Dress', 'Coat', 'Sandal', 'Shirt', 'Sneaker', 'Bag', 'Ankle boot']\n",
      "Data dimension: torch.Size([60000, 28, 28])\n"
     ]
    }
   ],
   "source": [
    "# Explore the dataset\n",
    "\n",
    "print(f\"Number of training examples: {len(train_data)}\")\n",
    "print(f\"Number of test examples: {len(test_data)}\")\n",
    "print(f\"Classes: {train_data.classes}\")\n",
    "print(f\"Data dimension: {train_data.data.shape}\")\n"
   ]
  },
  {
   "cell_type": "code",
   "execution_count": 16,
   "metadata": {},
   "outputs": [
    {
     "data": {
      "image/png": "[encoded data removed]",
      "text/plain": [
       "<Figure size 1000x500 with 10 Axes>"
      ]
     },
     "metadata": {},
     "output_type": "display_data"
    }
   ],
   "source": [
    "# Show the first 10 images\n",
    "import matplotlib.pyplot as plt\n",
    "classes_map = {idx:value for idx,value in zip(np.arange(len(train_data.classes)), train_data.classes)}\n",
    "# Show the first 10 images\n",
    "def show_image(data):\n",
    "    fig = plt.figure(figsize=(10,5))\n",
    "    for i in range(10):\n",
    "        ax = plt.subplot(2, 5, i+1)\n",
    "        im = data[i][0].permute(1,2,0).squeeze().numpy()\n",
    "        plt.imshow(im)\n",
    "        plt.title(classes_map[data[i][1]])\n",
    "        plt.axis(\"off\")\n",
    "    plt.show()\n",
    "show_image(train_data)\n"
   ]
  },
  {
   "cell_type": "markdown",
   "metadata": {},
   "source": [
    "## Convolution 2D\n",
    "The `Conv2d` function in PyTorch represents a 2-dimensional convolutional layer. Let's break down the parameters:\n",
    "\n",
    "- `in_channels`: This parameter specifies the number of channels (or depth) in the input image or feature map. For example, if you're dealing with RGB images, `in_channels` would be 3 since there are three color channels (red, green, blue).\n",
    "\n",
    "- `out_channels`: This parameter defines the number of filters (or kernels) in the convolutional layer. Each filter produces one channel in the output feature map. In your example, there will be 32 output channels.\n",
    "\n",
    "- `kernel_size`: This parameter determines the size of the convolutional kernel. Here, it's set to `3`, indicating that each kernel will be 3x3.\n",
    "\n",
    "- `padding`: Padding is added to the input image to ensure that the spatial dimensions of the output feature map are the same as the input. `padding=1` means that 1 pixel of padding will be added to all sides of the input.\n",
    "\n",
    "- `stride`: Stride specifies the step size at which the kernel moves across the input image. Here, `stride=1` means the kernel moves one pixel at a time.\n",
    "\n",
    "To compute the output size of the convolutional layer, you can use the following formulas:\n",
    "\n",
    "Output height: \n",
    "$$ \\text{output\\_height} = \\frac{{\\text{input\\_height} + 2 \\times \\text{padding} - \\text{kernel\\_size}}}{{\\text{stride}}} + 1 $$\n",
    "\n",
    "Output width: \n",
    "$$ \\text{output\\_width} = \\frac{{\\text{input\\_width} + 2 \\times \\text{padding} - \\text{kernel\\_size}}}{{\\text{stride}}} + 1 $$\n",
    "\n",
    "Output channels: \n",
    "$$ \\text{output\\_channels} = \\text{out\\_channels} $$\n",
    "\n",
    "So, if you have an input image with dimensions (input_channels, input_height, input_width), after passing through this convolutional layer, you will get an output feature map with dimensions (out_channels, output_height, output_width).\n",
    "\n",
    "## Maxpool 2D\n",
    "\n",
    "The `MaxPool2d` function in PyTorch represents a 2-dimensional max pooling layer. Let's break down the parameters:\n",
    "\n",
    "- `kernel_size`: This parameter specifies the size of the window over which the maximum value is computed. For example, `kernel_size=2` means that a 2x2 window will be used to perform the max pooling operation.\n",
    "\n",
    "Max pooling works by sliding the defined window (kernel) over the input feature map and selecting the maximum value within each window. This operation helps in downsampling the input feature map, reducing its spatial dimensions while retaining the most significant information.\n",
    "\n",
    "## DropOut \n",
    "\n",
    "The `nn.Dropout` function in PyTorch represents a regularization technique to prevent overfitting. The parameter `p`specifies the probability of dropping out neurons duriung training. Dropout works by randomly setting the outputs of a fraction of neurons in the specified layer to zero during each training iteration. \n",
    "\n"
   ]
  },
  {
   "cell_type": "markdown",
   "metadata": {},
   "source": [
    "# Simple Convolution Layer\n",
    "Below, we define a basic convolutional neural network for image classification, specifically for the FashionMNIST dataset. Please examine the input and output dimensions of each layer and understand how these sizes are calculated."
   ]
  },
  {
   "cell_type": "markdown",
   "metadata": {},
   "source": [
    "| Layer (type:depth-idx)  | Input Shape | Output Shape |\n",
    "|-------------------------|-------------|--------------|\n",
    "| Net                     | [1, 28, 28] | [1, 10]      |\n",
    "| ├─Conv2d: 1-1           | [1, 28, 28] | [32, 28, 28] |\n",
    "| ├─MaxPool2d: 1-2        | [32, 28, 28]| [32, 14, 14] |\n",
    "| ├─Conv2d: 1-3           | [32, 14, 14]| [64, 14, 14] |\n",
    "| ├─MaxPool2d: 1-4        | [64, 14, 14]| [64, 7, 7]   |\n",
    "| ├─Dropout: 1-5          | [64, 7, 7]  | [64, 7, 7]   |\n",
    "| ├─Linear: 1-6           | [64, 7, 7]  | [3136, 128]  |\n",
    "| ├─Linear: 1-7           | [3136, 128] | [128, 10]    |\n"
   ]
  },
  {
   "cell_type": "code",
   "execution_count": 34,
   "metadata": {},
   "outputs": [
    {
     "data": {
      "text/plain": [
       "==========================================================================================\n",
       "Layer (type:depth-idx)                   Output Shape              Param #\n",
       "==========================================================================================\n",
       "Net                                      [1, 10]                   --\n",
       "├─Conv2d: 1-1                            [32, 28, 28]              320\n",
       "├─MaxPool2d: 1-2                         [32, 14, 14]              --\n",
       "├─Conv2d: 1-3                            [64, 14, 14]              18,496\n",
       "├─MaxPool2d: 1-4                         [64, 7, 7]                --\n",
       "├─Dropout: 1-5                           [64, 7, 7]                --\n",
       "├─Linear: 1-6                            [1, 128]                  401,536\n",
       "├─Linear: 1-7                            [1, 10]                   1,290\n",
       "==========================================================================================\n",
       "Total params: 421,642\n",
       "Trainable params: 421,642\n",
       "Non-trainable params: 0\n",
       "Total mult-adds (Units.MEGABYTES): 17.26\n",
       "==========================================================================================\n",
       "Input size (MB): 0.00\n",
       "Forward/backward pass size (MB): 0.30\n",
       "Params size (MB): 1.69\n",
       "Estimated Total Size (MB): 1.99\n",
       "=========================================================================================="
      ]
     },
     "execution_count": 34,
     "metadata": {},
     "output_type": "execute_result"
    }
   ],
   "source": [
    "class Net(nn.Module):\n",
    "    def __init__(self, input_channels, num_classes):\n",
    "        super(Net, self).__init__()\n",
    "        self.conv1 = nn.Conv2d(in_channels=input_channels,out_channels=32,kernel_size=3,padding=1,stride=1)\n",
    "        self.pool = nn.MaxPool2d(kernel_size=2)\n",
    "        self.conv2 = nn.Conv2d(in_channels=32,out_channels=64,kernel_size=3,stride=1,padding=1)\n",
    "        self.dropout = nn.Dropout(p=0.25)\n",
    "        self.fc1 = nn.Linear(in_features=64*7*7,out_features=128)\n",
    "        self.fc2 = nn.Linear(in_features=128,out_features=num_classes)\n",
    "        \n",
    "    def forward(self, x: torch.Tensor) -> torch.Tensor:\n",
    "        x = self.pool(F.relu(self.conv1(x)))\n",
    "        x = self.pool(F.relu(self.conv2(x)))\n",
    "        x = self.dropout(x)\n",
    "        x = x.view(-1,64*7*7)\n",
    "        x = F.relu(self.fc1(x))\n",
    "        x = self.fc2(x)\n",
    "        return x\n",
    "    \n",
    "summary(Net(1,10), input_size=(1, 28,28), device='cpu')"
   ]
  },
  {
   "cell_type": "markdown",
   "metadata": {},
   "source": [
    "We split the training data into train and validation set and create `Dataloader` object for each dataset. \n",
    "Complete the missing part "
   ]
  },
  {
   "cell_type": "code",
   "execution_count": 35,
   "metadata": {},
   "outputs": [],
   "source": [
    "# Split the dataset into training and validation\n",
    "dataset_size = len(train_data)\n",
    "train_size = int(0.7 * dataset_size)  # 70% for training\n",
    "val_size = dataset_size - train_size  # 30% for validation\n",
    "\n",
    "train_dataset, val_dataset = random_split(train_data, [train_size, val_size])"
   ]
  },
  {
   "cell_type": "code",
   "execution_count": 36,
   "metadata": {},
   "outputs": [],
   "source": [
    "# Define some parameters to train the model\n",
    "device = torch.device(\"mps\" if torch.backends.mps.is_available() else \"cuda\" if torch.cuda.is_available() else \"cpu\")\n",
    "criterion  = nn.CrossEntropyLoss()\n",
    "input_channels = 1 \n",
    "num_classes = 10  \n",
    "learning_rate = 0.001 \n",
    "epochs = 30 \n",
    "patience = 10 \n",
    "batch_size = 256 \n",
    "\n",
    "# Create DataLoaders \n",
    "trainloader = DataLoader(train_dataset, batch_size=batch_size, shuffle=True) \n",
    "valloader = DataLoader(val_dataset, batch_size=batch_size, shuffle=True) \n",
    "testloader = DataLoader(test_data, batch_size=batch_size, shuffle=False) "
   ]
  },
  {
   "cell_type": "code",
   "execution_count": 37,
   "metadata": {},
   "outputs": [],
   "source": [
    "from utilsDL import Trainer"
   ]
  },
  {
   "cell_type": "markdown",
   "metadata": {},
   "source": [
    "### We use a `Trainer`class in utilsDL to train the model. We need to define the model, optimizer, and initilize the trainer object.FIll the missing part"
   ]
  },
  {
   "cell_type": "code",
   "execution_count": 38,
   "metadata": {},
   "outputs": [
    {
     "name": "stdout",
     "output_type": "stream",
     "text": [
      "Epoch 1/30 || Train Loss: 0.6565 || Train Acc: 0.7656 || Val Loss: 0.4458 || Val Acc: 0.8374\n",
      "Epoch 2/30 || Train Loss: 0.4028 || Train Acc: 0.8557 || Val Loss: 0.4020 || Val Acc: 0.8521\n",
      "Epoch 3/30 || Train Loss: 0.3588 || Train Acc: 0.8718 || Val Loss: 0.3330 || Val Acc: 0.8807\n",
      "Epoch 4/30 || Train Loss: 0.3251 || Train Acc: 0.8808 || Val Loss: 0.3159 || Val Acc: 0.8846\n",
      "Epoch 5/30 || Train Loss: 0.3018 || Train Acc: 0.8898 || Val Loss: 0.3291 || Val Acc: 0.8728\n",
      "Epoch 6/30 || Train Loss: 0.2865 || Train Acc: 0.8965 || Val Loss: 0.2726 || Val Acc: 0.9004\n",
      "Epoch 7/30 || Train Loss: 0.2727 || Train Acc: 0.9013 || Val Loss: 0.2587 || Val Acc: 0.9058\n",
      "Epoch 8/30 || Train Loss: 0.2564 || Train Acc: 0.9070 || Val Loss: 0.2604 || Val Acc: 0.9038\n",
      "Epoch 9/30 || Train Loss: 0.2434 || Train Acc: 0.9111 || Val Loss: 0.2566 || Val Acc: 0.9051\n",
      "Epoch 10/30 || Train Loss: 0.2440 || Train Acc: 0.9094 || Val Loss: 0.2377 || Val Acc: 0.9124\n",
      "Epoch 11/30 || Train Loss: 0.2244 || Train Acc: 0.9181 || Val Loss: 0.2410 || Val Acc: 0.9123\n",
      "Epoch 12/30 || Train Loss: 0.2166 || Train Acc: 0.9194 || Val Loss: 0.2464 || Val Acc: 0.9070\n",
      "Epoch 13/30 || Train Loss: 0.2107 || Train Acc: 0.9227 || Val Loss: 0.2321 || Val Acc: 0.9132\n",
      "Epoch 14/30 || Train Loss: 0.1990 || Train Acc: 0.9252 || Val Loss: 0.2172 || Val Acc: 0.9206\n",
      "Epoch 15/30 || Train Loss: 0.1887 || Train Acc: 0.9302 || Val Loss: 0.2179 || Val Acc: 0.9211\n",
      "Epoch 16/30 || Train Loss: 0.1812 || Train Acc: 0.9319 || Val Loss: 0.2251 || Val Acc: 0.9169\n",
      "Epoch 17/30 || Train Loss: 0.1745 || Train Acc: 0.9348 || Val Loss: 0.2282 || Val Acc: 0.9160\n",
      "Epoch 18/30 || Train Loss: 0.1691 || Train Acc: 0.9379 || Val Loss: 0.2101 || Val Acc: 0.9226\n",
      "Epoch 19/30 || Train Loss: 0.1596 || Train Acc: 0.9393 || Val Loss: 0.2061 || Val Acc: 0.9250\n",
      "Epoch 20/30 || Train Loss: 0.1518 || Train Acc: 0.9434 || Val Loss: 0.2243 || Val Acc: 0.9163\n",
      "Epoch 21/30 || Train Loss: 0.1451 || Train Acc: 0.9462 || Val Loss: 0.2154 || Val Acc: 0.9228\n",
      "Epoch 22/30 || Train Loss: 0.1406 || Train Acc: 0.9482 || Val Loss: 0.2370 || Val Acc: 0.9162\n",
      "Epoch 23/30 || Train Loss: 0.1325 || Train Acc: 0.9510 || Val Loss: 0.2115 || Val Acc: 0.9253\n",
      "Epoch 24/30 || Train Loss: 0.1277 || Train Acc: 0.9516 || Val Loss: 0.2109 || Val Acc: 0.9261\n",
      "Epoch 25/30 || Train Loss: 0.1220 || Train Acc: 0.9540 || Val Loss: 0.2314 || Val Acc: 0.9182\n",
      "Epoch 26/30 || Train Loss: 0.1179 || Train Acc: 0.9562 || Val Loss: 0.2153 || Val Acc: 0.9240\n",
      "Epoch 27/30 || Train Loss: 0.1072 || Train Acc: 0.9601 || Val Loss: 0.2212 || Val Acc: 0.9243\n",
      "Epoch 28/30 || Train Loss: 0.1068 || Train Acc: 0.9600 || Val Loss: 0.2241 || Val Acc: 0.9224\n",
      "Epoch 29/30 || Train Loss: 0.1002 || Train Acc: 0.9623 || Val Loss: 0.2264 || Val Acc: 0.9234\n",
      "Epoch 30/30 || Train Loss: 0.0940 || Train Acc: 0.9638 || Val Loss: 0.2352 || Val Acc: 0.9212\n"
     ]
    }
   ],
   "source": [
    "model = Net(input_channels=input_channels, num_classes=num_classes) \n",
    "optimizer = Adam(model.parameters(), lr=learning_rate)\n",
    "trainer = Trainer(model, trainloader, valloader, testloader, criterion, optimizer, device) \n",
    "\n",
    "train_loss, train_acc, val_loss, val_acc = trainer.train(epochs=epochs, patience=patience) "
   ]
  },
  {
   "cell_type": "code",
   "execution_count": 39,
   "metadata": {},
   "outputs": [
    {
     "data": {
      "image/png": "[encoded data removed]",
      "text/plain": [
       "<Figure size 640x480 with 2 Axes>"
      ]
     },
     "metadata": {},
     "output_type": "display_data"
    }
   ],
   "source": [
    "Trainer.plot_metrics(train_loss, val_loss, train_acc, val_acc)"
   ]
  },
  {
   "cell_type": "code",
   "execution_count": 40,
   "metadata": {},
   "outputs": [
    {
     "name": "stdout",
     "output_type": "stream",
     "text": [
      "Test Accuracy: 0.9157\n"
     ]
    }
   ],
   "source": [
    "test_acc = trainer.evaluate()"
   ]
  },
  {
   "cell_type": "markdown",
   "metadata": {},
   "source": [
    "# Your Task"
   ]
  },
  {
   "cell_type": "markdown",
   "metadata": {},
   "source": [
    "Now, it's your turn to train a deep learning model. We will utilize the CIFAR-10 dataset available in the torchvision package. This dataset can be loaded by running the subsequent cell. You are required to configure the parameters for your model, select an optimizer and an learning rate, determine your batch size, and finally, present your results.\n",
    "\n",
    "`Note`: Please pay attention to image shape, input/output of each layer"
   ]
  },
  {
   "cell_type": "code",
   "execution_count": 42,
   "metadata": {},
   "outputs": [
    {
     "name": "stdout",
     "output_type": "stream",
     "text": [
      "Files already downloaded and verified\n",
      "Files already downloaded and verified\n"
     ]
    }
   ],
   "source": [
    "from torchvision.datasets import CIFAR10\n",
    "(cifar_train, cifar_test) = [CIFAR10(root=\"data\", train=train, download=True, \n",
    "                                     transform=Compose([ToTensor(), \n",
    "                                                        Normalize((0.4914, 0.4822, 0.4465), (0.247, 0.243, 0.261))])) for train in [True, False]]"
   ]
  },
  {
   "cell_type": "code",
   "execution_count": 43,
   "metadata": {},
   "outputs": [],
   "source": [
    "train_loader = DataLoader(cifar_train, batch_size=256, shuffle=True)\n",
    "test_loader = DataLoader(cifar_test, batch_size=256, shuffle=False)"
   ]
  },
  {
   "cell_type": "code",
   "execution_count": 47,
   "metadata": {},
   "outputs": [],
   "source": [
    "class Net(nn.Module):\n",
    "    def __init__(self, input_channels, num_classes):\n",
    "        super(Net, self).__init__()\n",
    "        self.conv1 = nn.Conv2d(in_channels=input_channels,out_channels=32,kernel_size=3,padding=1,stride=1)\n",
    "        self.pool = nn.MaxPool2d(kernel_size=2)\n",
    "        self.conv2 = nn.Conv2d(in_channels=32,out_channels=64,kernel_size=3,stride=1,padding=1)\n",
    "        self.dropout = nn.Dropout(p=0.25)\n",
    "        self.fc1 = nn.Linear(in_features=64*8*8,out_features=128)\n",
    "        self.fc2 = nn.Linear(in_features=128,out_features=num_classes)\n",
    "        \n",
    "    def forward(self, x: torch.Tensor) -> torch.Tensor:\n",
    "        x = self.pool(F.relu(self.conv1(x)))\n",
    "        x = self.pool(F.relu(self.conv2(x)))\n",
    "        x = self.dropout(x)\n",
    "        x = x.view(-1,64*8*8)\n",
    "        x = F.relu(self.fc1(x))\n",
    "        x = self.fc2(x)\n",
    "        return x"
   ]
  },
  {
   "cell_type": "code",
   "execution_count": 45,
   "metadata": {},
   "outputs": [
    {
     "data": {
      "text/plain": [
       "torch.Size([3, 32, 32])"
      ]
     },
     "execution_count": 45,
     "metadata": {},
     "output_type": "execute_result"
    }
   ],
   "source": [
    "cifar_train[0][0].shape"
   ]
  },
  {
   "cell_type": "code",
   "execution_count": null,
   "metadata": {},
   "outputs": [],
   "source": [
    "netcifar10 = Net(input_channels=3, num_classes=10)\n",
    "optimizer = Adam(netcifar10.parameters(), lr=0.001)\n",
    "criterion = nn.CrossEntropyLoss()\n",
    "trainer = Trainer(netcifar10, train_loader, test_loader, test_loader, criterion, optimizer, device)\n",
    "train_loss, train_acc, val_loss, val_acc = trainer.train(epochs=30, patience=10)"
   ]
  },
  {
   "cell_type": "code",
   "execution_count": null,
   "metadata": {},
   "outputs": [],
   "source": []
  }
 ],
 "metadata": {
  "kernelspec": {
   "display_name": "pytorch-envs",
   "language": "python",
   "name": "python3"
  },
  "language_info": {
   "codemirror_mode": {
    "name": "ipython",
    "version": 3
   },
   "file_extension": ".py",
   "mimetype": "text/x-python",
   "name": "python",
   "nbconvert_exporter": "python",
   "pygments_lexer": "ipython3",
   "version": "3.12.2"
  }
 },
 "nbformat": 4,
 "nbformat_minor": 2
}
